{
  "nbformat": 4,
  "nbformat_minor": 0,
  "metadata": {
    "colab": {
      "provenance": []
    },
    "kernelspec": {
      "name": "python3",
      "display_name": "Python 3"
    },
    "language_info": {
      "name": "python"
    }
  },
  "cells": [
    {
      "cell_type": "code",
      "execution_count": null,
      "metadata": {
        "colab": {
          "base_uri": "https://localhost:8080/"
        },
        "id": "4zJw0_6zNnGK",
        "outputId": "bb864d26-0283-4cb2-f62f-07b1de100a5a"
      },
      "outputs": [
        {
          "output_type": "stream",
          "name": "stdout",
          "text": [
            "Cloning into 'meme-cap'...\n",
            "remote: Enumerating objects: 52, done.\u001b[K\n",
            "remote: Counting objects: 100% (52/52), done.\u001b[K\n",
            "remote: Compressing objects: 100% (45/45), done.\u001b[K\n",
            "remote: Total 52 (delta 10), reused 13 (delta 0), pack-reused 0\u001b[K\n",
            "Receiving objects: 100% (52/52), 844.03 KiB | 3.34 MiB/s, done.\n",
            "Resolving deltas: 100% (10/10), done.\n"
          ]
        }
      ],
      "source": [
        "!git clone https://github.com/eujhwang/meme-cap.git"
      ]
    },
    {
      "cell_type": "code",
      "source": [
        "%cd meme-cap/data"
      ],
      "metadata": {
        "colab": {
          "base_uri": "https://localhost:8080/"
        },
        "id": "nZX8qkR0N2mV",
        "outputId": "9ed11359-01ca-4bb5-fc43-933144604e46"
      },
      "execution_count": null,
      "outputs": [
        {
          "output_type": "stream",
          "name": "stdout",
          "text": [
            "/content/meme-cap/data\n"
          ]
        }
      ]
    },
    {
      "cell_type": "code",
      "source": [
        "import os\n",
        "import json\n",
        "import requests\n",
        "from tqdm import tqdm\n",
        "import uuid"
      ],
      "metadata": {
        "id": "ro4MmGnaT25v"
      },
      "execution_count": null,
      "outputs": []
    },
    {
      "cell_type": "code",
      "source": [
        "def download_image(url, img_path):\n",
        "    response = requests.get(url)\n",
        "\n",
        "    if response.status_code == 200:\n",
        "        with open(img_path, 'wb') as f:\n",
        "            f.write(response.content)\n",
        "        return True\n",
        "\n",
        "    return False"
      ],
      "metadata": {
        "id": "OusfyAyXOGCe"
      },
      "execution_count": null,
      "outputs": []
    },
    {
      "cell_type": "code",
      "source": [
        "'''\n",
        "./imgs\n",
        "    /trainval\n",
        "        abcd.png\n",
        "        efgh.jpg\n",
        "        ...\n",
        "    /test\n",
        "        lmno.png\n",
        "        wxyz.jpg\n",
        "        ...\n",
        "'''\n",
        "def prepare_data(phase):\n",
        "    root_folder = \"imgs\"\n",
        "    os.makedirs(root_folder, exist_ok=True)\n",
        "\n",
        "    # Load train-val data\n",
        "    with open(f'memes-{phase}.json', 'r') as f:\n",
        "        data = json.load(f)\n",
        "\n",
        "    output_folder = os.path.join(root_folder, phase)\n",
        "    os.makedirs(output_folder, exist_ok=True)\n",
        "\n",
        "    dataset = []\n",
        "\n",
        "    # Download stat\n",
        "    tot_count = len(data)\n",
        "    suc_count = 0\n",
        "    fail_count = 0\n",
        "\n",
        "    try:\n",
        "        with tqdm(total=tot_count, desc=\"Downloading Images\", ncols=80) as pbar:\n",
        "            for d in data:\n",
        "                img_url = d['url']\n",
        "                img_fname = d['img_fname']\n",
        "                img_path = os.path.join(output_folder, img_fname)\n",
        "\n",
        "                # Download the image\n",
        "                if download_image(img_url, img_path):\n",
        "                    meme_id = str(uuid.uuid4())\n",
        "\n",
        "                    meme_data = {\n",
        "                        \"id\": meme_id,\n",
        "                        \"image\": img_path,\n",
        "                        \"conversations\": [\n",
        "                            {\n",
        "                                \"from\": \"human\",\n",
        "                                \"value\": \"<image>\\nWhat is in this meme?\"\n",
        "                            },\n",
        "                            {\n",
        "                                \"from\": \"gpt\",\n",
        "                                \"value\": \" \".join(d['img_captions'])\n",
        "                            },\n",
        "                            {\n",
        "                                \"from\": \"human\",\n",
        "                                \"value\": \"<image>\\nWhat metaphor is this meme trying to convey?\"\n",
        "                            },\n",
        "                            {\n",
        "                                \"from\": \"gpt\",\n",
        "                                \"value\": \" \".join(d['meme_captions'])\n",
        "                            }\n",
        "                        ]\n",
        "                    }\n",
        "                    dataset.append(meme_data)\n",
        "\n",
        "                    suc_count += 1\n",
        "                else:\n",
        "                    fail_count += 1\n",
        "\n",
        "                # Update progress bar\n",
        "                pbar.update(1)\n",
        "\n",
        "        with open(f'llava-{phase}.json', 'w') as out:\n",
        "            json.dump(dataset, out, indent=4)\n",
        "\n",
        "        print(f\"{tot_count} images: {suc_count} downloaded, {fail_count} failed\")\n",
        "\n",
        "    except Exception as e:\n",
        "        print(f\"Error when preparing data: {e}\")"
      ],
      "metadata": {
        "id": "gJe78eLgdNLE"
      },
      "execution_count": null,
      "outputs": []
    },
    {
      "cell_type": "code",
      "source": [
        "prepare_data(\"trainval\")"
      ],
      "metadata": {
        "colab": {
          "base_uri": "https://localhost:8080/"
        },
        "id": "MbaBhRNo3TN_",
        "outputId": "36d7c969-f8c1-4104-cf7f-9e9d37e64e6d"
      },
      "execution_count": null,
      "outputs": [
        {
          "output_type": "stream",
          "name": "stderr",
          "text": [
            "Downloading Images: 100%|███████████████████| 5823/5823 [24:20<00:00,  3.99it/s]\n"
          ]
        },
        {
          "output_type": "stream",
          "name": "stdout",
          "text": [
            "5823 images: 5341 downloaded, 482 failed\n"
          ]
        }
      ]
    },
    {
      "cell_type": "code",
      "source": [
        "prepare_data(\"test\")"
      ],
      "metadata": {
        "colab": {
          "base_uri": "https://localhost:8080/"
        },
        "id": "xktaHX4f9SN5",
        "outputId": "3042e7cc-55ba-4d85-9add-e6ad405db089"
      },
      "execution_count": null,
      "outputs": [
        {
          "output_type": "stream",
          "name": "stderr",
          "text": [
            "Downloading Images: 100%|█████████████████████| 559/559 [02:23<00:00,  3.91it/s]"
          ]
        },
        {
          "output_type": "stream",
          "name": "stdout",
          "text": [
            "559 images: 518 downloaded, 41 failed\n"
          ]
        },
        {
          "output_type": "stream",
          "name": "stderr",
          "text": [
            "\n"
          ]
        }
      ]
    }
  ]
}